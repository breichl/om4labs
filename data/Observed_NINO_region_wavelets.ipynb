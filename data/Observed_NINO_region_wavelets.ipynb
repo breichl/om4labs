{
 "cells": [
  {
   "cell_type": "markdown",
   "id": "light-force",
   "metadata": {},
   "source": [
    "### Generating Observed NINO Region Wavelets"
   ]
  },
  {
   "cell_type": "code",
   "execution_count": 1,
   "id": "stone-helena",
   "metadata": {},
   "outputs": [],
   "source": [
    "%matplotlib inline\n",
    "\n",
    "import xwavelet as xw\n",
    "import xarray as xr\n",
    "import matplotlib.pyplot as plt\n",
    "import numpy as np"
   ]
  },
  {
   "cell_type": "code",
   "execution_count": 2,
   "id": "bizarre-lodge",
   "metadata": {},
   "outputs": [],
   "source": [
    "dset = xr.open_dataset(\n",
    "    \"https://psl.noaa.gov/thredds/dodsC/Datasets/noaa.ersst.v5/sst.mnmean.nc\",\n",
    "    use_cftime=True,\n",
    ")"
   ]
  },
  {
   "cell_type": "code",
   "execution_count": 3,
   "id": "9ef2d4c0-ef5d-4f01-b67a-7ad5a77a367c",
   "metadata": {},
   "outputs": [],
   "source": [
    "nino12 = {\n",
    "    \"lat_range\": (-10, 0.0),\n",
    "    \"lon_range\": (270.0, 280.0),\n",
    "    \"label\": \"NINO1+2\",\n",
    "}\n",
    "\n",
    "nino3 = {\n",
    "    \"lat_range\": (-5.0, 5.0),\n",
    "    \"lon_range\": (210.0, 270.0),\n",
    "    \"label\": \"NINO3\",\n",
    "}\n",
    "nino34 = {\n",
    "    \"lat_range\": (-5.0, 5.0),\n",
    "    \"lon_range\": (190.0, 240.0),\n",
    "    \"label\": \"NINO3+4\",\n",
    "}\n",
    "nino4 = {\n",
    "    \"lat_range\": (-5.0, 5.0),\n",
    "    \"lon_range\": (160.0, 210.0),\n",
    "    \"label\": \"NINO4\",\n",
    "}\n",
    "\n",
    "regions = [nino12, nino3, nino34, nino4]"
   ]
  },
  {
   "cell_type": "code",
   "execution_count": 4,
   "id": "86492495-1656-4159-82f5-eead41066f88",
   "metadata": {},
   "outputs": [],
   "source": [
    "def calc_wavelet(dset,region,timerange):\n",
    "\n",
    "    # select region\n",
    "    sst = dset.sst\n",
    "    sst = sst.sel(lat=slice(*region[\"lat_range\"]))\n",
    "    sst = sst.sel(lon=slice(*region[\"lon_range\"]))\n",
    "    sst = sst.sel(time=slice(*timerange))\n",
    "\n",
    "    # create area mean\n",
    "    sst = sst.mean(dim=(\"lat\", \"lon\"))\n",
    "    \n",
    "    result = xw.wavelet(sst, scaled=True)\n",
    "    result[\"wavelet\"] = np.abs(result[\"wavelet\"])**2\n",
    "    \n",
    "    return result"
   ]
  },
  {
   "cell_type": "code",
   "execution_count": 5,
   "id": "6f97451a-68d0-468b-a475-f2db539e1903",
   "metadata": {},
   "outputs": [
    {
     "name": "stdout",
     "output_type": "stream",
     "text": [
      "<xarray.Dataset>\n",
      "Dimensions:             (period: 29, region: 4, time: 1680)\n",
      "Coordinates:\n",
      "  * time                (time) object 1880-01-01 00:00:00 ... 2019-12-01 00:0...\n",
      "  * period              (period) float64 0.5 0.5946 0.7071 ... 45.25 53.82 64.0\n",
      "  * region              (region) float64 1.2 3.0 3.4 4.0\n",
      "Data variables:\n",
      "    wavelet             (region, period, time) float64 nan nan nan ... nan nan\n",
      "    cone_of_influence   (region, time) float64 6.087e-07 0.0 ... 6.087e-07\n",
      "    timeseries          (region, time) float64 nan nan nan nan ... nan nan nan\n",
      "    spectrum            (region, period) float64 nan nan nan nan ... nan nan nan\n",
      "    scaled_ts_variance  (region, time) float64 nan nan nan nan ... nan nan nan\n",
      "Attributes:\n",
      "    source:          NOAA ERSST v.5\n",
      "    years:           1880-01-01, 2019-12-31\n",
      "    dt:              0.08333333333333333\n",
      "    pad:             1\n",
      "    dj:              0.25\n",
      "    pow2:            7\n",
      "    s0:              0.5\n",
      "    mother:          MORLET\n",
      "    scaled:          True\n",
      "    detrend:         True\n",
      "    frequency_band:  (2, 8)\n"
     ]
    }
   ],
   "source": [
    "timerange = (\"1880-01-01\", \"2019-12-31\")\n",
    "result = [calc_wavelet(dset, x, timerange) for x in regions]\n",
    "\n",
    "region = [1.2, 3.0, 3.4, 4.0]\n",
    "result = xr.concat(result, dim=\"region\")\n",
    "result = result.transpose(\"region\", ...)\n",
    "result = result.assign_coords({\"region\": region})\n",
    "\n",
    "result.attrs = {\n",
    "    k: str(v)\n",
    "    for k, v in {\n",
    "        \"source\": \"NOAA ERSST v.5\",\n",
    "        \"years\": f\"{timerange[0]}, {timerange[1]}\",\n",
    "        **result.attrs,\n",
    "    }.items()\n",
    "}\n",
    "result.to_netcdf(\"wavelet.NOAA-ERSST-v5.1880-2019.nc\")\n",
    "\n",
    "print(result)"
   ]
  },
  {
   "cell_type": "code",
   "execution_count": 6,
   "id": "997403d4-6bfd-4f65-bb22-720145629c9d",
   "metadata": {},
   "outputs": [
    {
     "name": "stdout",
     "output_type": "stream",
     "text": [
      "<xarray.Dataset>\n",
      "Dimensions:             (period: 29, region: 4, time: 552)\n",
      "Coordinates:\n",
      "  * time                (time) object 1957-01-01 00:00:00 ... 2002-12-01 00:0...\n",
      "  * period              (period) float64 0.5 0.5946 0.7071 ... 45.25 53.82 64.0\n",
      "  * region              (region) float64 1.2 3.0 3.4 4.0\n",
      "Data variables:\n",
      "    wavelet             (region, period, time) float64 nan nan nan ... nan nan\n",
      "    cone_of_influence   (region, time) float64 6.087e-07 0.0 ... 6.087e-07\n",
      "    timeseries          (region, time) float64 nan nan nan nan ... nan nan nan\n",
      "    spectrum            (region, period) float64 nan nan nan nan ... nan nan nan\n",
      "    scaled_ts_variance  (region, time) float64 nan nan nan nan ... nan nan nan\n",
      "Attributes:\n",
      "    source:          NOAA ERSST v.5\n",
      "    years:           1957-01-01, 2002-12-31\n",
      "    dt:              0.08333333333333333\n",
      "    pad:             1\n",
      "    dj:              0.25\n",
      "    pow2:            7\n",
      "    s0:              0.5\n",
      "    mother:          MORLET\n",
      "    scaled:          True\n",
      "    detrend:         True\n",
      "    frequency_band:  (2, 8)\n"
     ]
    }
   ],
   "source": [
    "timerange = (\"1957-01-01\", \"2002-12-31\")\n",
    "result = [calc_wavelet(dset, x, timerange) for x in regions]\n",
    "\n",
    "region = [1.2, 3.0, 3.4, 4.0]\n",
    "result = xr.concat(result, dim=\"region\")\n",
    "result = result.transpose(\"region\", ...)\n",
    "result = result.assign_coords({\"region\": region})\n",
    "\n",
    "result.attrs = {\n",
    "    k: str(v)\n",
    "    for k, v in {\n",
    "        \"source\": \"NOAA ERSST v.5\",\n",
    "        \"years\": f\"{timerange[0]}, {timerange[1]}\",\n",
    "        **result.attrs,\n",
    "    }.items()\n",
    "}\n",
    "result.to_netcdf(\"wavelet.NOAA-ERSST-v5.1957-2002.nc\")\n",
    "\n",
    "print(result)"
   ]
  }
 ],
 "metadata": {
  "kernelspec": {
   "display_name": "Python 3",
   "language": "python",
   "name": "python3"
  },
  "language_info": {
   "codemirror_mode": {
    "name": "ipython",
    "version": 3
   },
   "file_extension": ".py",
   "mimetype": "text/x-python",
   "name": "python",
   "nbconvert_exporter": "python",
   "pygments_lexer": "ipython3",
   "version": "3.9.5"
  }
 },
 "nbformat": 4,
 "nbformat_minor": 5
}
